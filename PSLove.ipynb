{
 "cells": [
  {
   "cell_type": "code",
   "execution_count": 1,
   "metadata": {},
   "outputs": [
    {
     "name": "stderr",
     "output_type": "stream",
     "text": [
      "Using TensorFlow backend.\n"
     ]
    }
   ],
   "source": [
    "from __future__ import print_function\n",
    "\n",
    "from keras.models import Model\n",
    "from keras.layers import Input, LSTM, Dense\n",
    "import numpy as np\n",
    "import pandas as pd\n",
    "import pickle"
   ]
  },
  {
   "cell_type": "code",
   "execution_count": 287,
   "metadata": {},
   "outputs": [],
   "source": [
    "batch_size = 64  # Batch size for training.\n",
    "epochs = 20  # Number of epochs to train for.\n",
    "latent_dim = 256  # Latent dimensionality of the encoding space.\n",
    "num_samples = 10000  # Number of samples to train on.\n",
    "\n",
    "# The pickle file you get the 1st notebook - Data Preprocessing/Augmentation\n",
    "# Path to the data txt file on disk.\n",
    "data_path = '/Users/vikramanksingh/Downloads/augmented_data.pkl'"
   ]
  },
  {
   "cell_type": "code",
   "execution_count": 4,
   "metadata": {},
   "outputs": [],
   "source": [
    "import _pickle as cPickle\n",
    "with open(data_path, 'rb') as fo:\n",
    "        dict = cPickle.load(fo)"
   ]
  },
  {
   "cell_type": "code",
   "execution_count": 5,
   "metadata": {},
   "outputs": [],
   "source": [
    "# Load the data file which has the input to output mappings\n",
    "with open (data_path, 'rb') as fp:\n",
    "    encoded_data = pickle.load(fp)"
   ]
  },
  {
   "cell_type": "code",
   "execution_count": 8,
   "metadata": {},
   "outputs": [],
   "source": [
    "encoded_data = encoded_data[['user', 'inp', 'out']]"
   ]
  },
  {
   "cell_type": "code",
   "execution_count": 86,
   "metadata": {},
   "outputs": [],
   "source": [
    "from sklearn.utils import shuffle\n",
    "enc_data = shuffle(encoded_data)"
   ]
  },
  {
   "cell_type": "code",
   "execution_count": 87,
   "metadata": {},
   "outputs": [],
   "source": [
    "# Spliting the data into test and train\n",
    "from sklearn.model_selection import train_test_split\n",
    "\n",
    "X_train, X_test, y_train, y_test = train_test_split(enc_data['inp'], enc_data['out'], test_size=0.33, random_state=42)"
   ]
  },
  {
   "cell_type": "code",
   "execution_count": 88,
   "metadata": {},
   "outputs": [],
   "source": [
    "max_encoder_seq_length = max([len(txt) for txt in encoded_data['inp']])\n",
    "max_decoder_seq_length = max([len(txt) for txt in encoded_data['out']])"
   ]
  },
  {
   "cell_type": "code",
   "execution_count": 89,
   "metadata": {},
   "outputs": [],
   "source": [
    "num_encoder_tokens = len(X_train.iloc[0][0])\n",
    "num_decoder_tokens = len(y_train.iloc[0][0])"
   ]
  },
  {
   "cell_type": "code",
   "execution_count": 202,
   "metadata": {},
   "outputs": [],
   "source": [
    "max_encoder_seq_length\n",
    "zero_vec = np.zeros(13)\n",
    "\n",
    "def pad(vec, max_seq_length):\n",
    "    global zero_vec\n",
    "    arr = []\n",
    "    for v in vec:\n",
    "        arr.append(np.array(v))\n",
    "    for i in range(max_seq_length - len(vec)):\n",
    "        arr.append(zero_vec)\n",
    "    return arr"
   ]
  },
  {
   "cell_type": "code",
   "execution_count": 239,
   "metadata": {},
   "outputs": [],
   "source": [
    "\n",
    "X_train_df = pd.DataFrame(X_train)\n",
    "X_train_df['inp'] = X_train_df.apply(lambda x: pad(x['inp'], max_encoder_seq_length), axis = 1)\n",
    "\n",
    "X_test_df = pd.DataFrame(X_test)\n",
    "X_test_df['inp'] = X_test_df.apply(lambda x: pad(x['inp'], max_encoder_seq_length), axis = 1)\n",
    "\n",
    "y_train_df = pd.DataFrame(y_train)\n",
    "y_train_df['out'] = y_train_df.apply(lambda x: pad(x['out'], max_decoder_seq_length), axis = 1)\n",
    "\n",
    "y_test_df = pd.DataFrame(y_test)\n",
    "y_test_df['out'] = y_test_df.apply(lambda x: pad(x['out'], max_decoder_seq_length), axis = 1)"
   ]
  },
  {
   "cell_type": "code",
   "execution_count": 119,
   "metadata": {},
   "outputs": [
    {
     "data": {
      "text/plain": [
       "(621, 1)"
      ]
     },
     "execution_count": 119,
     "metadata": {},
     "output_type": "execute_result"
    }
   ],
   "source": [
    "y_test_df.shape"
   ]
  },
  {
   "cell_type": "code",
   "execution_count": 260,
   "metadata": {},
   "outputs": [],
   "source": [
    "\n",
    "X_train_arr = np.concatenate(X_train_df.values.flatten()).reshape((1258,166,13))\n",
    "X_test_arr = np.concatenate(X_test_df.values.flatten()).reshape((621,166,13))\n",
    "\n",
    "y_train_arr = np.concatenate(y_train_df.values.flatten()).reshape((1258,39,13))\n",
    "y_test_arr = np.concatenate(y_test_df.values.flatten()).reshape((621,39,13))"
   ]
  },
  {
   "cell_type": "code",
   "execution_count": 261,
   "metadata": {},
   "outputs": [
    {
     "name": "stdout",
     "output_type": "stream",
     "text": [
      "(1258, 166, 13) (1258, 39, 13)\n",
      "(621, 166, 13) (621, 39, 13)\n"
     ]
    }
   ],
   "source": [
    "print(X_train_arr.shape, y_train_arr.shape)\n",
    "print(X_test_arr.shape, y_test_arr.shape)"
   ]
  },
  {
   "cell_type": "code",
   "execution_count": 274,
   "metadata": {},
   "outputs": [
    {
     "data": {
      "text/plain": [
       "(1258, 166, 13)"
      ]
     },
     "execution_count": 274,
     "metadata": {},
     "output_type": "execute_result"
    }
   ],
   "source": [
    "encoder_input_data.shape"
   ]
  },
  {
   "cell_type": "code",
   "execution_count": 275,
   "metadata": {},
   "outputs": [
    {
     "data": {
      "text/plain": [
       "(1258, 39, 13)"
      ]
     },
     "execution_count": 275,
     "metadata": {},
     "output_type": "execute_result"
    }
   ],
   "source": [
    "decoder_target_data.shape"
   ]
  },
  {
   "cell_type": "code",
   "execution_count": 279,
   "metadata": {},
   "outputs": [],
   "source": [
    "decoder_input_data = decoder_target_data"
   ]
  },
  {
   "cell_type": "code",
   "execution_count": 299,
   "metadata": {},
   "outputs": [
    {
     "name": "stdout",
     "output_type": "stream",
     "text": [
      "Epoch 1/20\n",
      "1258/1258 [==============================] - 16s 12ms/step - loss: 0.1890 - acc: 0.4836\n",
      "Epoch 2/20\n",
      "1258/1258 [==============================] - 13s 10ms/step - loss: 0.1449 - acc: 0.7112\n",
      "Epoch 3/20\n",
      "1258/1258 [==============================] - 13s 10ms/step - loss: 0.1098 - acc: 0.7347\n",
      "Epoch 4/20\n",
      "1258/1258 [==============================] - 12s 10ms/step - loss: 0.0807 - acc: 0.8078\n",
      "Epoch 5/20\n",
      "1258/1258 [==============================] - 13s 10ms/step - loss: 0.0645 - acc: 0.8293\n",
      "Epoch 6/20\n",
      "1258/1258 [==============================] - 14s 11ms/step - loss: 0.0601 - acc: 0.8021\n",
      "Epoch 7/20\n",
      "1258/1258 [==============================] - 19s 15ms/step - loss: 0.0526 - acc: 0.8500\n",
      "Epoch 8/20\n",
      "1258/1258 [==============================] - 13s 11ms/step - loss: 0.0496 - acc: 0.8302\n",
      "Epoch 9/20\n",
      "1258/1258 [==============================] - 14s 11ms/step - loss: 0.0473 - acc: 0.8539\n",
      "Epoch 10/20\n",
      "1258/1258 [==============================] - 13s 10ms/step - loss: 0.0454 - acc: 0.8620\n",
      "Epoch 11/20\n",
      "1258/1258 [==============================] - 14s 11ms/step - loss: 0.0437 - acc: 0.8769\n",
      "Epoch 12/20\n",
      "1258/1258 [==============================] - 13s 10ms/step - loss: 0.0425 - acc: 0.8693\n",
      "Epoch 13/20\n",
      "1258/1258 [==============================] - 13s 10ms/step - loss: 0.0413 - acc: 0.8604\n",
      "Epoch 14/20\n",
      "1258/1258 [==============================] - 13s 10ms/step - loss: 0.0405 - acc: 0.8515\n",
      "Epoch 15/20\n",
      "1258/1258 [==============================] - 12s 10ms/step - loss: 0.0397 - acc: 0.8789\n",
      "Epoch 16/20\n",
      "1258/1258 [==============================] - 14s 11ms/step - loss: 0.0389 - acc: 0.8510\n",
      "Epoch 17/20\n",
      "1258/1258 [==============================] - 15s 12ms/step - loss: 0.0383 - acc: 0.8553\n",
      "Epoch 18/20\n",
      "1258/1258 [==============================] - 14s 12ms/step - loss: 0.0376 - acc: 0.8719\n",
      "Epoch 19/20\n",
      "1258/1258 [==============================] - 14s 11ms/step - loss: 0.0375 - acc: 0.8548\n",
      "Epoch 20/20\n",
      "1258/1258 [==============================] - 13s 10ms/step - loss: 0.0369 - acc: 0.8683\n"
     ]
    },
    {
     "name": "stderr",
     "output_type": "stream",
     "text": [
      "/Users/vikramanksingh/anaconda/envs/vik/lib/python3.6/site-packages/keras/engine/network.py:877: UserWarning: Layer lstm_20 was passed non-serializable keyword arguments: {'initial_state': [<tf.Tensor 'lstm_19/while/Exit_2:0' shape=(?, 256) dtype=float32>, <tf.Tensor 'lstm_19/while/Exit_3:0' shape=(?, 256) dtype=float32>]}. They will not be included in the serialized model (and thus will be missing at deserialization time).\n",
      "  '. They will not be included '\n"
     ]
    }
   ],
   "source": [
    "# Define an input sequence and process it.\n",
    "encoder_inputs = Input(shape=(None, num_encoder_tokens))\n",
    "encoder = LSTM(latent_dim, return_state=True)\n",
    "encoder_outputs, state_h, state_c = encoder(encoder_inputs)\n",
    "# We discard `encoder_outputs` and only keep the states.\n",
    "encoder_states = [state_h, state_c]\n",
    "\n",
    "# Set up the decoder, using `encoder_states` as initial state.\n",
    "decoder_inputs = Input(shape=(None, num_decoder_tokens))\n",
    "# We set up our decoder to return full output sequences,\n",
    "# and to return internal states as well. We don't use the\n",
    "# return states in the training model, but we will use them in inference.\n",
    "decoder_lstm = LSTM(latent_dim, return_sequences=True, return_state=True)\n",
    "decoder_outputs, _, _ = decoder_lstm(decoder_inputs,\n",
    "                                     initial_state=encoder_states)\n",
    "decoder_dense = Dense(num_decoder_tokens, activation='softmax')\n",
    "decoder_outputs = decoder_dense(decoder_outputs)\n",
    "\n",
    "# Define the model that will turn\n",
    "# `encoder_input_data` & `decoder_input_data` into `decoder_target_data`\n",
    "model = Model([encoder_inputs, decoder_inputs], decoder_outputs)\n",
    "\n",
    "# Run training\n",
    "model.compile(optimizer='rmsprop', loss='categorical_crossentropy', metrics=['acc'])\n",
    "history = model.fit([encoder_input_data, decoder_input_data], decoder_target_data,\n",
    "          batch_size=batch_size,\n",
    "          epochs=epochs)\n",
    "# Save model\n",
    "model.save('s2s.h5')\n"
   ]
  },
  {
   "cell_type": "code",
   "execution_count": 329,
   "metadata": {},
   "outputs": [
    {
     "name": "stdout",
     "output_type": "stream",
     "text": [
      "dict_values([[0.18899431286915686, 0.14486499743118575, 0.10983580015658953, 0.08073979812794156, 0.06446608617925492, 0.060065547729855694, 0.05257551620798763, 0.04961552003632479, 0.04732740929850713, 0.04536535583779998, 0.04370465755036222, 0.04247934922031075, 0.04133582982828393, 0.04047622814750823, 0.039741574962059295, 0.03893482961080412, 0.038292170305320304, 0.03759101924852176, 0.03745447552284679, 0.036895742749466616], [0.48359218699374906, 0.7112429131574586, 0.7347437972484219, 0.8078145986520618, 0.8292568563846412, 0.8021279164073198, 0.8500061153607452, 0.8301944531772777, 0.8538583835471416, 0.861950183521204, 0.8768700803785521, 0.8693082266278411, 0.8604215013014304, 0.8515144038844753, 0.8789287010512784, 0.8510456118371414, 0.8553055266128625, 0.8719171645720926, 0.8548367363659869, 0.8683094865566975]])\n"
     ]
    }
   ],
   "source": [
    "print(history.history.values())"
   ]
  },
  {
   "cell_type": "code",
   "execution_count": 336,
   "metadata": {},
   "outputs": [
    {
     "data": {
      "image/png": "[encoded data removed]",
      "text/plain": [
       "<Figure size 432x288 with 1 Axes>"
      ]
     },
     "metadata": {
      "needs_background": "light"
     },
     "output_type": "display_data"
    }
   ],
   "source": [
    "# import matplotlib\n",
    "# matplotlib.use('TkAgg')\n",
    "%matplotlib inline\n",
    "import matplotlib.pyplot as plt\n",
    "\n",
    "plt.plot(history.history['acc'])\n",
    "plt.plot(history.history['loss'])\n",
    "# plt.plot(history.history['val_acc'])\n",
    "plt.title('model accuracy')\n",
    "plt.ylabel('accuracy')\n",
    "plt.xlabel('epoch')\n",
    "plt.grid()\n",
    "plt.legend(['Accuracy', 'Loss'], loc='upper left')\n",
    "plt.show()"
   ]
  },
  {
   "cell_type": "code",
   "execution_count": 304,
   "metadata": {},
   "outputs": [],
   "source": [
    "# Next: inference mode (sampling).\n",
    "# Here's the drill:\n",
    "# 1) encode input and retrieve initial decoder state\n",
    "# 2) run one step of decoder with this initial state\n",
    "# and a \"start of sequence\" token as target.\n",
    "# Output will be the next target token\n",
    "# 3) Repeat with the current target token and current states\n",
    "\n",
    "\n",
    "# Define inference models\n",
    "encoder_model = Model(encoder_inputs, encoder_states)\n",
    "\n",
    "decoder_state_input_h = Input(shape=(latent_dim,))\n",
    "decoder_state_input_c = Input(shape=(latent_dim,))\n",
    "decoder_states_inputs = [decoder_state_input_h, decoder_state_input_c]\n",
    "decoder_outputs, state_h, state_c = decoder_lstm(\n",
    "    decoder_inputs, initial_state=decoder_states_inputs)\n",
    "decoder_states = [state_h, state_c]\n",
    "decoder_outputs = decoder_dense(decoder_outputs)\n",
    "decoder_model = Model(\n",
    "    [decoder_inputs] + decoder_states_inputs,\n",
    "    [decoder_outputs] + decoder_states)"
   ]
  },
  {
   "cell_type": "code",
   "execution_count": 326,
   "metadata": {},
   "outputs": [],
   "source": [
    "############################################################################\n",
    "############################################################################\n",
    "# TODO -- Might consist bugs, didn't get time to debug this part of code\n",
    "############################################################################\n",
    "############################################################################\n",
    "\n",
    "def decode_sequence(input_seq):\n",
    "    # Encode the input as state vectors.\n",
    "    states_value = encoder_model.predict(input_seq)\n",
    "    print(\"s:\", np.array(states_value).shape)\n",
    "    sample_state = np.array([np.zeros(num_decoder_tokens)])\n",
    "    # Generate empty target sequence of length 1.\n",
    "    target_seq = np.zeros((1, max_decoder_seq_length, num_decoder_tokens))\n",
    "\n",
    "    # Inference loop for a batch of sequences\n",
    "    # (to simplify, here we assume a batch of size 1).\n",
    "    stop_condition = False\n",
    "    decoded_sentence = []\n",
    "    while not stop_condition:\n",
    "        output_tokens, h, c = decoder_model.predict(\n",
    "            [sample_state] + states_value)\n",
    "\n",
    "        # Sample a token\n",
    "        sampled_token_index = np.argmax(output_tokens[0, -1, :])\n",
    "        sample_state = np.zeros(num_decoder_tokens)\n",
    "        sample_state[sampled_token_index] = 1\n",
    "        decoded_sentence.append(sample_state)\n",
    "\n",
    "        # Exit condition: either hit max length\n",
    "        # or find stop character.\n",
    "        if (sampled_token_index == 12 or\n",
    "           len(decoded_sentence) > max_decoder_seq_length):\n",
    "            stop_condition = True\n",
    "\n",
    "        states_value = [h, c]\n",
    "\n",
    "    return decoded_sentence"
   ]
  },
  {
   "cell_type": "code",
   "execution_count": 333,
   "metadata": {},
   "outputs": [],
   "source": [
    "############################################################################\n",
    "############################################################################\n",
    "# TODO -- Might consist bugs, didn't get time to debug this part of code\n",
    "############################################################################\n",
    "############################################################################\n",
    "\n",
    "for seq_index in range(len(X_test_arr)):\n",
    "    # Take one sequence (part of the training set)\n",
    "    # for trying out decoding.\n",
    "    input_seq = np.array([X_test_arr[seq_index]])\n",
    "    print(input_seq.shape)\n",
    "    print('Input encoded sentence:', input_seq)\n",
    "    decoded_sentence = decode_sequence(input_seq)\n",
    "    print('-')\n",
    "    \n",
    "    print('Decoded sentence:', decoded_sentence)"
   ]
  },
  {
   "cell_type": "code",
   "execution_count": null,
   "metadata": {},
   "outputs": [],
   "source": []
  }
 ],
 "metadata": {
  "kernelspec": {
   "display_name": "Python 3",
   "language": "python",
   "name": "python3"
  },
  "language_info": {
   "codemirror_mode": {
    "name": "ipython",
    "version": 3
   },
   "file_extension": ".py",
   "mimetype": "text/x-python",
   "name": "python",
   "nbconvert_exporter": "python",
   "pygments_lexer": "ipython3",
   "version": "3.6.0"
  }
 },
 "nbformat": 4,
 "nbformat_minor": 2
}
